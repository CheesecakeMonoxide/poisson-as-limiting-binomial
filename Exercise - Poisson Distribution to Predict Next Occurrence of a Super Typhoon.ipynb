{
 "cells": [
  {
   "cell_type": "markdown",
   "metadata": {},
   "source": [
    "The following exercise is an attempt to explore the Poisson probability distribution function as well as minor data clean-ups using pandas."
   ]
  },
  {
   "cell_type": "markdown",
   "metadata": {},
   "source": [
    ". . . . . . . . . . . . . . . . . . . . . . . . . . . . . . . . . . . . . . . . . . . . . . . . . . . . . "
   ]
  },
  {
   "cell_type": "markdown",
   "metadata": {},
   "source": [
    "<strong>Motivation for studying:</strong> I'm curious to know when the next big disaster caused by some tropical depression is about to happen in the Philippines."
   ]
  },
  {
   "cell_type": "markdown",
   "metadata": {},
   "source": [
    "<strong>Why the Poisson model?</strong> The Poisson distribution is also referred to as a limiting case of the Binomial model, which ascertains the probability of success or occurrence of an event, p, given a certain number of Bernoulli trials, n. Each \"trial\" may also refer to intervals of time, say years, hours or seconds. In this regard, in situations wherein the occurrence of the event in question is rare across many, many trials (or years, for example), using the Poisson model is easier. Thus, as n approaches infinity and as p becomes very small, we could use a different variable to denote the rate or number of occurrences of the desired event by multiplying n with p. More formally, this is the lambda used in the probability distribution function of the Poisson model."
   ]
  },
  {
   "cell_type": "markdown",
   "metadata": {},
   "source": [
    "Below is the PDF of the Poisson distribution:\n",
    "$$p(x) = \\frac{e^{-\\lambda}\\lambda^x}{x!}$$"
   ]
  },
  {
   "cell_type": "markdown",
   "metadata": {},
   "source": [
    "To use the Poisson model, we need to make sure that the following assumptions hold true in this particular scenario we want to forecast:\n",
    "1. All events must be independent of each other.\n",
    "2. The probability of success or occurrence of an event is constant.\n",
    "3. As the interval becomes smaller and smaller, the probability of success or occurrence becomes zero."
   ]
  },
  {
   "cell_type": "markdown",
   "metadata": {},
   "source": [
    "<strong>Definition of terms:</strong>\n",
    "* Event: Super typhoon (as tagged by PAG-ASA)\n",
    "* ${\\lambda}$ = (number of trials/intervals, n) x (probability of occurrence within each trial/interval, v)\n",
    "* random variable X = number of a super typhoon's occurrence\n",
    "* p(X=x) = probability that x super typhoon/s will occur\n",
    "* t = length of time interval"
   ]
  },
  {
   "cell_type": "markdown",
   "metadata": {},
   "source": [
    "For this particular exercise, I will assume that the following conditions are true. Please note that I am not a meteorologist and if there is any particular assumption below that should be corrected, please let me know:\n",
    "1. The occurrence or non-occurence of super typhoons in a year does not depend on a previous nor a possible future occurrence or non-occurrence.\n",
    "2. The probability of having a super typhoon within the same interval is the constant.\n",
    "3. The probability of a super typhoon occurring within a very short time interval is zero.\n",
    "\n",
    "I know that typhoons in the Philippines tend to happen during the rainy season (latter half of the year) so I preferred using <u>number of years</u> as the time interval to avoid any bias. "
   ]
  },
  {
   "cell_type": "markdown",
   "metadata": {},
   "source": [
    "<strong>Data set sources: </strong>\n",
    "<br>https://en.wikipedia.org/wiki/List_of_retired_Philippine_typhoon_names#cite_note-others-3 \n",
    "<br>https://www.typhoon2000.ph/stormstats/WPF_StrongestTyphoonsPhilippines_2015Ed.pdf\n",
    "<br><i>**can't find anything else more reliable</i>"
   ]
  },
  {
   "cell_type": "code",
   "execution_count": 2,
   "metadata": {},
   "outputs": [],
   "source": [
    "import wikitablescrape\n",
    "\n",
    "wikitablescrape.scrape(url=\"https://en.wikipedia.org/wiki/List_of_retired_Philippine_typhoon_names#cite_note-others-3\",\n",
    "                       output_name=\"ph_typhoons1\")"
   ]
  },
  {
   "cell_type": "code",
   "execution_count": 2,
   "metadata": {},
   "outputs": [],
   "source": [
    "import pandas as pd\n",
    "df1 = pd.read_csv('ph_typhoons1.csv')\n",
    "df2 = pd.read_csv('ph_typhoons1_1.csv')\n",
    "df3 = pd.read_csv('ph_typhoons1_2.csv')"
   ]
  },
  {
   "cell_type": "code",
   "execution_count": 6,
   "metadata": {},
   "outputs": [],
   "source": [
    "df = df1.append(df2.append(df3,sort=True),sort=True)"
   ]
  },
  {
   "cell_type": "code",
   "execution_count": 10,
   "metadata": {},
   "outputs": [
    {
     "data": {
      "text/plain": [
       "Index(['PAGASAName', 'WMOname', 'Replacementname', 'Dates active',\n",
       "       'PAGASACategory', 'Sustainedwind speeds', 'Pressure', 'Areas affected',\n",
       "       'Damage(PHP)', 'Deaths', 'Missing', 'Refs'],\n",
       "      dtype='object')"
      ]
     },
     "execution_count": 10,
     "metadata": {},
     "output_type": "execute_result"
    }
   ],
   "source": [
    "df1.columns"
   ]
  },
  {
   "cell_type": "code",
   "execution_count": 11,
   "metadata": {},
   "outputs": [
    {
     "data": {
      "text/plain": [
       "Index(['LocalName', 'WMOname', 'Replacementname', 'Dates active', 'Category',\n",
       "       'Wind', 'Pressure', 'Areas affected', 'Damage', 'Deaths', 'Missing',\n",
       "       'Refs'],\n",
       "      dtype='object')"
      ]
     },
     "execution_count": 11,
     "metadata": {},
     "output_type": "execute_result"
    }
   ],
   "source": [
    "df2.columns"
   ]
  },
  {
   "cell_type": "code",
   "execution_count": 12,
   "metadata": {},
   "outputs": [
    {
     "data": {
      "text/plain": [
       "Index(['LocalName', 'WMOname', 'Replacementname', 'Dates active(within PAR)',\n",
       "       'PAGASACategory', 'Sustainedwind speeds', 'Pressure', 'Areas affected',\n",
       "       'Damage(PHP)', 'Deaths', 'Missing', 'Refs'],\n",
       "      dtype='object')"
      ]
     },
     "execution_count": 12,
     "metadata": {},
     "output_type": "execute_result"
    }
   ],
   "source": [
    "df3.columns"
   ]
  },
  {
   "cell_type": "code",
   "execution_count": 19,
   "metadata": {},
   "outputs": [],
   "source": [
    "#renaming columns so everything appends nicely\n",
    "df1.rename(columns={'PAGASAName':'LocalName'},inplace=True)\n",
    "df2.rename(columns={'Category':'PAGASACategory','Wind':'Sustainedwind speeds','Damage':'Damage(PHP)'},inplace=True)\n",
    "df3.rename(columns={'Dates active(within PAR)':'Dates active'},inplace=True)"
   ]
  },
  {
   "cell_type": "code",
   "execution_count": 68,
   "metadata": {},
   "outputs": [
    {
     "data": {
      "text/html": [
       "<div>\n",
       "<style scoped>\n",
       "    .dataframe tbody tr th:only-of-type {\n",
       "        vertical-align: middle;\n",
       "    }\n",
       "\n",
       "    .dataframe tbody tr th {\n",
       "        vertical-align: top;\n",
       "    }\n",
       "\n",
       "    .dataframe thead th {\n",
       "        text-align: right;\n",
       "    }\n",
       "</style>\n",
       "<table border=\"1\" class=\"dataframe\">\n",
       "  <thead>\n",
       "    <tr style=\"text-align: right;\">\n",
       "      <th></th>\n",
       "      <th>LocalName</th>\n",
       "      <th>WMOname</th>\n",
       "      <th>Replacementname</th>\n",
       "      <th>Dates active</th>\n",
       "      <th>PAGASACategory</th>\n",
       "      <th>Sustainedwind speeds</th>\n",
       "      <th>Pressure</th>\n",
       "      <th>Areas affected</th>\n",
       "      <th>Damage(PHP)</th>\n",
       "      <th>Deaths</th>\n",
       "      <th>Missing</th>\n",
       "      <th>Refs</th>\n",
       "    </tr>\n",
       "  </thead>\n",
       "  <tbody>\n",
       "    <tr>\n",
       "      <th>21</th>\n",
       "      <td>Loleng</td>\n",
       "      <td>Babs</td>\n",
       "      <td>NaN</td>\n",
       "      <td>October 15 – 24, 1998</td>\n",
       "      <td>Super Typhoon</td>\n",
       "      <td>155 km/h (100 mph)</td>\n",
       "      <td>940 hPa (27.38 inHg)</td>\n",
       "      <td>Visayas, Luzon</td>\n",
       "      <td>6.79 billion</td>\n",
       "      <td>303</td>\n",
       "      <td>29</td>\n",
       "      <td>NaN</td>\n",
       "    </tr>\n",
       "    <tr>\n",
       "      <th>22</th>\n",
       "      <td>22 names</td>\n",
       "      <td>NaN</td>\n",
       "      <td>17.9 thousand</td>\n",
       "      <td>4730</td>\n",
       "      <td>NaN</td>\n",
       "      <td>NaN</td>\n",
       "      <td>NaN</td>\n",
       "      <td>NaN</td>\n",
       "      <td>NaN</td>\n",
       "      <td>NaN</td>\n",
       "      <td>NaN</td>\n",
       "      <td>NaN</td>\n",
       "    </tr>\n",
       "  </tbody>\n",
       "</table>\n",
       "</div>"
      ],
      "text/plain": [
       "   LocalName WMOname Replacementname           Dates active PAGASACategory  \\\n",
       "21    Loleng    Babs             NaN  October 15 – 24, 1998  Super Typhoon   \n",
       "22  22 names     NaN   17.9 thousand                   4730            NaN   \n",
       "\n",
       "   Sustainedwind speeds              Pressure  Areas affected   Damage(PHP)  \\\n",
       "21   155 km/h (100 mph)  940 hPa (27.38 inHg)  Visayas, Luzon  6.79 billion   \n",
       "22                  NaN                   NaN             NaN           NaN   \n",
       "\n",
       "   Deaths Missing  Refs  \n",
       "21    303      29   NaN  \n",
       "22    NaN     NaN   NaN  "
      ]
     },
     "execution_count": 68,
     "metadata": {},
     "output_type": "execute_result"
    }
   ],
   "source": [
    "df1.tail(2)"
   ]
  },
  {
   "cell_type": "code",
   "execution_count": 69,
   "metadata": {},
   "outputs": [
    {
     "data": {
      "text/html": [
       "<div>\n",
       "<style scoped>\n",
       "    .dataframe tbody tr th:only-of-type {\n",
       "        vertical-align: middle;\n",
       "    }\n",
       "\n",
       "    .dataframe tbody tr th {\n",
       "        vertical-align: top;\n",
       "    }\n",
       "\n",
       "    .dataframe thead th {\n",
       "        text-align: right;\n",
       "    }\n",
       "</style>\n",
       "<table border=\"1\" class=\"dataframe\">\n",
       "  <thead>\n",
       "    <tr style=\"text-align: right;\">\n",
       "      <th></th>\n",
       "      <th>LocalName</th>\n",
       "      <th>WMOname</th>\n",
       "      <th>Replacementname</th>\n",
       "      <th>Dates active</th>\n",
       "      <th>PAGASACategory</th>\n",
       "      <th>Sustainedwind speeds</th>\n",
       "      <th>Pressure</th>\n",
       "      <th>Areas affected</th>\n",
       "      <th>Damage(PHP)</th>\n",
       "      <th>Deaths</th>\n",
       "      <th>Missing</th>\n",
       "      <th>Refs</th>\n",
       "    </tr>\n",
       "  </thead>\n",
       "  <tbody>\n",
       "    <tr>\n",
       "      <th>10</th>\n",
       "      <td>Pepeng</td>\n",
       "      <td>Parma</td>\n",
       "      <td>Paolo</td>\n",
       "      <td>September 30 – October 10, 2009</td>\n",
       "      <td>Typhoon</td>\n",
       "      <td>185 km/h (115 mph)</td>\n",
       "      <td>938 hPa (27.70 inHg)</td>\n",
       "      <td>Visayas, Luzon</td>\n",
       "      <td>₱39.6 billion</td>\n",
       "      <td>465</td>\n",
       "      <td>47.0</td>\n",
       "      <td>NaN</td>\n",
       "    </tr>\n",
       "    <tr>\n",
       "      <th>11</th>\n",
       "      <td>10 names</td>\n",
       "      <td>NaN</td>\n",
       "      <td>₱66.6 billion</td>\n",
       "      <td>&gt;5024</td>\n",
       "      <td>1814</td>\n",
       "      <td>NaN</td>\n",
       "      <td>NaN</td>\n",
       "      <td>NaN</td>\n",
       "      <td>NaN</td>\n",
       "      <td>NaN</td>\n",
       "      <td>NaN</td>\n",
       "      <td>NaN</td>\n",
       "    </tr>\n",
       "  </tbody>\n",
       "</table>\n",
       "</div>"
      ],
      "text/plain": [
       "   LocalName WMOname Replacementname                     Dates active  \\\n",
       "10    Pepeng   Parma           Paolo  September 30 – October 10, 2009   \n",
       "11  10 names     NaN   ₱66.6 billion                            >5024   \n",
       "\n",
       "   PAGASACategory Sustainedwind speeds              Pressure  Areas affected  \\\n",
       "10        Typhoon   185 km/h (115 mph)  938 hPa (27.70 inHg)  Visayas, Luzon   \n",
       "11           1814                  NaN                   NaN             NaN   \n",
       "\n",
       "      Damage(PHP) Deaths  Missing  Refs  \n",
       "10  ₱39.6 billion    465     47.0   NaN  \n",
       "11            NaN    NaN      NaN   NaN  "
      ]
     },
     "execution_count": 69,
     "metadata": {},
     "output_type": "execute_result"
    }
   ],
   "source": [
    "df2.tail(2)"
   ]
  },
  {
   "cell_type": "code",
   "execution_count": 71,
   "metadata": {},
   "outputs": [
    {
     "data": {
      "text/html": [
       "<div>\n",
       "<style scoped>\n",
       "    .dataframe tbody tr th:only-of-type {\n",
       "        vertical-align: middle;\n",
       "    }\n",
       "\n",
       "    .dataframe tbody tr th {\n",
       "        vertical-align: top;\n",
       "    }\n",
       "\n",
       "    .dataframe thead th {\n",
       "        text-align: right;\n",
       "    }\n",
       "</style>\n",
       "<table border=\"1\" class=\"dataframe\">\n",
       "  <thead>\n",
       "    <tr style=\"text-align: right;\">\n",
       "      <th></th>\n",
       "      <th>LocalName</th>\n",
       "      <th>WMOname</th>\n",
       "      <th>Replacementname</th>\n",
       "      <th>Dates active</th>\n",
       "      <th>PAGASACategory</th>\n",
       "      <th>Sustainedwind speeds</th>\n",
       "      <th>Pressure</th>\n",
       "      <th>Areas affected</th>\n",
       "      <th>Damage(PHP)</th>\n",
       "      <th>Deaths</th>\n",
       "      <th>Missing</th>\n",
       "      <th>Refs</th>\n",
       "    </tr>\n",
       "  </thead>\n",
       "  <tbody>\n",
       "    <tr>\n",
       "      <th>23</th>\n",
       "      <td>Rosita</td>\n",
       "      <td>Yutu</td>\n",
       "      <td>Rosal</td>\n",
       "      <td>October 27 – 31, 2018</td>\n",
       "      <td>Typhoon</td>\n",
       "      <td>215 km/h (130 mph)</td>\n",
       "      <td>900 hPa (26.58 inHg)</td>\n",
       "      <td>Central Luzon</td>\n",
       "      <td>₱2.9 billion</td>\n",
       "      <td>27</td>\n",
       "      <td>0</td>\n",
       "      <td>NaN</td>\n",
       "    </tr>\n",
       "    <tr>\n",
       "      <th>24</th>\n",
       "      <td>Usman</td>\n",
       "      <td>----</td>\n",
       "      <td>Umberto</td>\n",
       "      <td>December 25 – 29, 2018</td>\n",
       "      <td>Tropical Depression</td>\n",
       "      <td>55 km/h (35 mph)</td>\n",
       "      <td>1000 hPa (29.53 inHg)</td>\n",
       "      <td>Visayas, Southern Luzon</td>\n",
       "      <td>₱5.41 billion</td>\n",
       "      <td>155</td>\n",
       "      <td>0</td>\n",
       "      <td>NaN</td>\n",
       "    </tr>\n",
       "  </tbody>\n",
       "</table>\n",
       "</div>"
      ],
      "text/plain": [
       "   LocalName WMOname Replacementname            Dates active  \\\n",
       "23    Rosita    Yutu           Rosal   October 27 – 31, 2018   \n",
       "24     Usman    ----         Umberto  December 25 – 29, 2018   \n",
       "\n",
       "         PAGASACategory Sustainedwind speeds               Pressure  \\\n",
       "23              Typhoon   215 km/h (130 mph)   900 hPa (26.58 inHg)   \n",
       "24  Tropical Depression     55 km/h (35 mph)  1000 hPa (29.53 inHg)   \n",
       "\n",
       "             Areas affected    Damage(PHP) Deaths Missing  Refs  \n",
       "23            Central Luzon   ₱2.9 billion     27       0   NaN  \n",
       "24  Visayas, Southern Luzon  ₱5.41 billion    155       0   NaN  "
      ]
     },
     "execution_count": 71,
     "metadata": {},
     "output_type": "execute_result"
    }
   ],
   "source": [
    "df3.tail(2)"
   ]
  },
  {
   "cell_type": "code",
   "execution_count": 73,
   "metadata": {},
   "outputs": [],
   "source": [
    "# Both df1 and df2 have unneccessary summary rows at the end, so remove it\n",
    "df1.drop(df1.index[-1], inplace=True)\n",
    "df2.drop(df2.index[-1], inplace=True)"
   ]
  },
  {
   "cell_type": "code",
   "execution_count": 74,
   "metadata": {},
   "outputs": [
    {
     "data": {
      "text/html": [
       "<div>\n",
       "<style scoped>\n",
       "    .dataframe tbody tr th:only-of-type {\n",
       "        vertical-align: middle;\n",
       "    }\n",
       "\n",
       "    .dataframe tbody tr th {\n",
       "        vertical-align: top;\n",
       "    }\n",
       "\n",
       "    .dataframe thead th {\n",
       "        text-align: right;\n",
       "    }\n",
       "</style>\n",
       "<table border=\"1\" class=\"dataframe\">\n",
       "  <thead>\n",
       "    <tr style=\"text-align: right;\">\n",
       "      <th></th>\n",
       "      <th>LocalName</th>\n",
       "      <th>WMOname</th>\n",
       "      <th>Replacementname</th>\n",
       "      <th>Dates active</th>\n",
       "      <th>PAGASACategory</th>\n",
       "      <th>Sustainedwind speeds</th>\n",
       "      <th>Pressure</th>\n",
       "      <th>Areas affected</th>\n",
       "      <th>Damage(PHP)</th>\n",
       "      <th>Deaths</th>\n",
       "      <th>Missing</th>\n",
       "      <th>Refs</th>\n",
       "    </tr>\n",
       "  </thead>\n",
       "  <tbody>\n",
       "    <tr>\n",
       "      <th>19</th>\n",
       "      <td>Rosing</td>\n",
       "      <td>Angela</td>\n",
       "      <td>Rening</td>\n",
       "      <td>October 25 – November 7, 1995</td>\n",
       "      <td>Super Typhoon</td>\n",
       "      <td>215 km/h (130 mph)</td>\n",
       "      <td>910 hPa (26.87 inHg)</td>\n",
       "      <td>Southern Luzon</td>\n",
       "      <td>10.8 billion</td>\n",
       "      <td>936</td>\n",
       "      <td>NaN</td>\n",
       "      <td>NaN</td>\n",
       "    </tr>\n",
       "    <tr>\n",
       "      <th>20</th>\n",
       "      <td>Iliang</td>\n",
       "      <td>Zeb</td>\n",
       "      <td>NaN</td>\n",
       "      <td>October 7–14, 1998</td>\n",
       "      <td>Super Typhoon</td>\n",
       "      <td>205 km/h (125 mph)</td>\n",
       "      <td>900 hPa (26.58 inHg)</td>\n",
       "      <td>Southern Luzon</td>\n",
       "      <td>5.38 billion</td>\n",
       "      <td>46</td>\n",
       "      <td>29</td>\n",
       "      <td>NaN</td>\n",
       "    </tr>\n",
       "  </tbody>\n",
       "</table>\n",
       "</div>"
      ],
      "text/plain": [
       "   LocalName WMOname Replacementname                   Dates active  \\\n",
       "19    Rosing  Angela          Rening  October 25 – November 7, 1995   \n",
       "20    Iliang     Zeb             NaN             October 7–14, 1998   \n",
       "\n",
       "   PAGASACategory Sustainedwind speeds              Pressure  Areas affected  \\\n",
       "19  Super Typhoon   215 km/h (130 mph)  910 hPa (26.87 inHg)  Southern Luzon   \n",
       "20  Super Typhoon   205 km/h (125 mph)  900 hPa (26.58 inHg)  Southern Luzon   \n",
       "\n",
       "     Damage(PHP) Deaths Missing  Refs  \n",
       "19  10.8 billion    936     NaN   NaN  \n",
       "20  5.38 billion     46      29   NaN  "
      ]
     },
     "execution_count": 74,
     "metadata": {},
     "output_type": "execute_result"
    }
   ],
   "source": [
    "df1.tail(2)"
   ]
  },
  {
   "cell_type": "code",
   "execution_count": 75,
   "metadata": {},
   "outputs": [
    {
     "data": {
      "text/html": [
       "<div>\n",
       "<style scoped>\n",
       "    .dataframe tbody tr th:only-of-type {\n",
       "        vertical-align: middle;\n",
       "    }\n",
       "\n",
       "    .dataframe tbody tr th {\n",
       "        vertical-align: top;\n",
       "    }\n",
       "\n",
       "    .dataframe thead th {\n",
       "        text-align: right;\n",
       "    }\n",
       "</style>\n",
       "<table border=\"1\" class=\"dataframe\">\n",
       "  <thead>\n",
       "    <tr style=\"text-align: right;\">\n",
       "      <th></th>\n",
       "      <th>LocalName</th>\n",
       "      <th>WMOname</th>\n",
       "      <th>Replacementname</th>\n",
       "      <th>Dates active</th>\n",
       "      <th>PAGASACategory</th>\n",
       "      <th>Sustainedwind speeds</th>\n",
       "      <th>Pressure</th>\n",
       "      <th>Areas affected</th>\n",
       "      <th>Damage(PHP)</th>\n",
       "      <th>Deaths</th>\n",
       "      <th>Missing</th>\n",
       "      <th>Refs</th>\n",
       "    </tr>\n",
       "  </thead>\n",
       "  <tbody>\n",
       "    <tr>\n",
       "      <th>9</th>\n",
       "      <td>Ondoy</td>\n",
       "      <td>Ketsana</td>\n",
       "      <td>Odette</td>\n",
       "      <td>September 24 — 27, 2009</td>\n",
       "      <td>Typhoon</td>\n",
       "      <td>130 km/h (80 mph)</td>\n",
       "      <td>980 hPa (28.94 inHg)</td>\n",
       "      <td>Luzon</td>\n",
       "      <td>₱11.2 billion</td>\n",
       "      <td>671</td>\n",
       "      <td>37.0</td>\n",
       "      <td>NaN</td>\n",
       "    </tr>\n",
       "    <tr>\n",
       "      <th>10</th>\n",
       "      <td>Pepeng</td>\n",
       "      <td>Parma</td>\n",
       "      <td>Paolo</td>\n",
       "      <td>September 30 – October 10, 2009</td>\n",
       "      <td>Typhoon</td>\n",
       "      <td>185 km/h (115 mph)</td>\n",
       "      <td>938 hPa (27.70 inHg)</td>\n",
       "      <td>Visayas, Luzon</td>\n",
       "      <td>₱39.6 billion</td>\n",
       "      <td>465</td>\n",
       "      <td>47.0</td>\n",
       "      <td>NaN</td>\n",
       "    </tr>\n",
       "  </tbody>\n",
       "</table>\n",
       "</div>"
      ],
      "text/plain": [
       "   LocalName  WMOname Replacementname                     Dates active  \\\n",
       "9      Ondoy  Ketsana          Odette          September 24 — 27, 2009   \n",
       "10    Pepeng    Parma           Paolo  September 30 – October 10, 2009   \n",
       "\n",
       "   PAGASACategory Sustainedwind speeds              Pressure  Areas affected  \\\n",
       "9         Typhoon    130 km/h (80 mph)  980 hPa (28.94 inHg)           Luzon   \n",
       "10        Typhoon   185 km/h (115 mph)  938 hPa (27.70 inHg)  Visayas, Luzon   \n",
       "\n",
       "      Damage(PHP) Deaths  Missing  Refs  \n",
       "9   ₱11.2 billion    671     37.0   NaN  \n",
       "10  ₱39.6 billion    465     47.0   NaN  "
      ]
     },
     "execution_count": 75,
     "metadata": {},
     "output_type": "execute_result"
    }
   ],
   "source": [
    "df2.tail(2)"
   ]
  },
  {
   "cell_type": "code",
   "execution_count": 76,
   "metadata": {},
   "outputs": [],
   "source": [
    "df = df1.append(df2.append(df3,sort=True),sort=True)"
   ]
  },
  {
   "cell_type": "code",
   "execution_count": 77,
   "metadata": {},
   "outputs": [],
   "source": [
    "df.drop(['Refs','WMOname','Replacementname'],axis=1,inplace=True)"
   ]
  },
  {
   "cell_type": "code",
   "execution_count": 78,
   "metadata": {},
   "outputs": [],
   "source": [
    "df.set_index('LocalName',inplace=True)"
   ]
  },
  {
   "cell_type": "code",
   "execution_count": 79,
   "metadata": {},
   "outputs": [
    {
     "data": {
      "text/html": [
       "<div>\n",
       "<style scoped>\n",
       "    .dataframe tbody tr th:only-of-type {\n",
       "        vertical-align: middle;\n",
       "    }\n",
       "\n",
       "    .dataframe tbody tr th {\n",
       "        vertical-align: top;\n",
       "    }\n",
       "\n",
       "    .dataframe thead th {\n",
       "        text-align: right;\n",
       "    }\n",
       "</style>\n",
       "<table border=\"1\" class=\"dataframe\">\n",
       "  <thead>\n",
       "    <tr style=\"text-align: right;\">\n",
       "      <th></th>\n",
       "      <th>Areas affected</th>\n",
       "      <th>Damage(PHP)</th>\n",
       "      <th>Dates active</th>\n",
       "      <th>Deaths</th>\n",
       "      <th>Missing</th>\n",
       "      <th>PAGASACategory</th>\n",
       "      <th>Pressure</th>\n",
       "      <th>Sustainedwind speeds</th>\n",
       "    </tr>\n",
       "    <tr>\n",
       "      <th>LocalName</th>\n",
       "      <th></th>\n",
       "      <th></th>\n",
       "      <th></th>\n",
       "      <th></th>\n",
       "      <th></th>\n",
       "      <th></th>\n",
       "      <th></th>\n",
       "      <th></th>\n",
       "    </tr>\n",
       "  </thead>\n",
       "  <tbody>\n",
       "    <tr>\n",
       "      <th>Dading</th>\n",
       "      <td>Central Luzon</td>\n",
       "      <td>Unknown</td>\n",
       "      <td>June 26 - July 3, 1964</td>\n",
       "      <td>100</td>\n",
       "      <td>NaN</td>\n",
       "      <td>Typhoon</td>\n",
       "      <td>970 hPa (28.64 inHg)</td>\n",
       "      <td>185 km/h (115 mph)</td>\n",
       "    </tr>\n",
       "    <tr>\n",
       "      <th>Welming</th>\n",
       "      <td>Eastern, Northeastern Visayas and Southern Luzon</td>\n",
       "      <td>NaN</td>\n",
       "      <td>October 31 - November 8, 1967</td>\n",
       "      <td>300</td>\n",
       "      <td>64</td>\n",
       "      <td>Super Typhoon</td>\n",
       "      <td>910 hPa (26.87 inHg)</td>\n",
       "      <td>260 km/h (160 mph)</td>\n",
       "    </tr>\n",
       "    <tr>\n",
       "      <th>Pitang</th>\n",
       "      <td>Northern Luzon</td>\n",
       "      <td>1.4 million</td>\n",
       "      <td>September 8–14, 1970</td>\n",
       "      <td>95</td>\n",
       "      <td>80</td>\n",
       "      <td>Super Typhoon</td>\n",
       "      <td>905 hPa (26.72 inHg)</td>\n",
       "      <td>260 km/h (160 mph)</td>\n",
       "    </tr>\n",
       "    <tr>\n",
       "      <th>Sening</th>\n",
       "      <td>Southern Luzon, Northeastern Visayas</td>\n",
       "      <td>74 million</td>\n",
       "      <td>October 10–18, 1970</td>\n",
       "      <td>768</td>\n",
       "      <td>193</td>\n",
       "      <td>Super Typhoon</td>\n",
       "      <td>905 hPa (26.72 inHg)</td>\n",
       "      <td>280 km/h (175 mph)</td>\n",
       "    </tr>\n",
       "    <tr>\n",
       "      <th>Titang</th>\n",
       "      <td>Mindanao, Western Visayas</td>\n",
       "      <td>50 million</td>\n",
       "      <td>October 14–25, 1970</td>\n",
       "      <td>1,551</td>\n",
       "      <td>284</td>\n",
       "      <td>Super Typhoon</td>\n",
       "      <td>940 hPa (27.76 inHg)</td>\n",
       "      <td>240 km/h (150 mph)</td>\n",
       "    </tr>\n",
       "  </tbody>\n",
       "</table>\n",
       "</div>"
      ],
      "text/plain": [
       "                                             Areas affected  Damage(PHP)  \\\n",
       "LocalName                                                                  \n",
       "Dading                                        Central Luzon      Unknown   \n",
       "Welming    Eastern, Northeastern Visayas and Southern Luzon          NaN   \n",
       "Pitang                                       Northern Luzon  1.4 million   \n",
       "Sening                 Southern Luzon, Northeastern Visayas   74 million   \n",
       "Titang                            Mindanao, Western Visayas   50 million   \n",
       "\n",
       "                            Dates active Deaths Missing PAGASACategory  \\\n",
       "LocalName                                                                \n",
       "Dading            June 26 - July 3, 1964    100     NaN        Typhoon   \n",
       "Welming    October 31 - November 8, 1967    300      64  Super Typhoon   \n",
       "Pitang              September 8–14, 1970     95      80  Super Typhoon   \n",
       "Sening               October 10–18, 1970    768     193  Super Typhoon   \n",
       "Titang               October 14–25, 1970  1,551     284  Super Typhoon   \n",
       "\n",
       "                       Pressure Sustainedwind speeds  \n",
       "LocalName                                             \n",
       "Dading     970 hPa (28.64 inHg)   185 km/h (115 mph)  \n",
       "Welming    910 hPa (26.87 inHg)   260 km/h (160 mph)  \n",
       "Pitang     905 hPa (26.72 inHg)   260 km/h (160 mph)  \n",
       "Sening     905 hPa (26.72 inHg)   280 km/h (175 mph)  \n",
       "Titang     940 hPa (27.76 inHg)   240 km/h (150 mph)  "
      ]
     },
     "execution_count": 79,
     "metadata": {},
     "output_type": "execute_result"
    }
   ],
   "source": [
    "df.head()"
   ]
  },
  {
   "cell_type": "code",
   "execution_count": 80,
   "metadata": {},
   "outputs": [],
   "source": [
    "#need to create the following columns for easier computations:\n",
    "df['Year Active'] = df['Dates active'].str[-4:]"
   ]
  },
  {
   "cell_type": "code",
   "execution_count": 81,
   "metadata": {},
   "outputs": [
    {
     "data": {
      "text/html": [
       "<div>\n",
       "<style scoped>\n",
       "    .dataframe tbody tr th:only-of-type {\n",
       "        vertical-align: middle;\n",
       "    }\n",
       "\n",
       "    .dataframe tbody tr th {\n",
       "        vertical-align: top;\n",
       "    }\n",
       "\n",
       "    .dataframe thead th {\n",
       "        text-align: right;\n",
       "    }\n",
       "</style>\n",
       "<table border=\"1\" class=\"dataframe\">\n",
       "  <thead>\n",
       "    <tr style=\"text-align: right;\">\n",
       "      <th></th>\n",
       "      <th>Areas affected</th>\n",
       "      <th>Damage(PHP)</th>\n",
       "      <th>Dates active</th>\n",
       "      <th>Deaths</th>\n",
       "      <th>Missing</th>\n",
       "      <th>PAGASACategory</th>\n",
       "      <th>Pressure</th>\n",
       "      <th>Sustainedwind speeds</th>\n",
       "      <th>Year Active</th>\n",
       "    </tr>\n",
       "    <tr>\n",
       "      <th>LocalName</th>\n",
       "      <th></th>\n",
       "      <th></th>\n",
       "      <th></th>\n",
       "      <th></th>\n",
       "      <th></th>\n",
       "      <th></th>\n",
       "      <th></th>\n",
       "      <th></th>\n",
       "      <th></th>\n",
       "    </tr>\n",
       "  </thead>\n",
       "  <tbody>\n",
       "    <tr>\n",
       "      <th>Urduja</th>\n",
       "      <td>Visayas</td>\n",
       "      <td>₱3.75 billion</td>\n",
       "      <td>December 11 – 19, 2017</td>\n",
       "      <td>54</td>\n",
       "      <td>0</td>\n",
       "      <td>Tropical Storm</td>\n",
       "      <td>996 hPa (29.41 inHg)</td>\n",
       "      <td>75 km/h (45 mph)</td>\n",
       "      <td>2017</td>\n",
       "    </tr>\n",
       "    <tr>\n",
       "      <th>Vinta</th>\n",
       "      <td>Mindanao</td>\n",
       "      <td>₱2.1 billion</td>\n",
       "      <td>December 20 – 24, 2017</td>\n",
       "      <td>173</td>\n",
       "      <td>176</td>\n",
       "      <td>Typhoon</td>\n",
       "      <td>970 hPa (28.64 inHg)</td>\n",
       "      <td>130 km/h (80 mph)</td>\n",
       "      <td>2017</td>\n",
       "    </tr>\n",
       "    <tr>\n",
       "      <th>Ompong</th>\n",
       "      <td>Luzon</td>\n",
       "      <td>₱33.9 billion</td>\n",
       "      <td>September 12 – 15, 2018</td>\n",
       "      <td>127</td>\n",
       "      <td>0</td>\n",
       "      <td>Super Typhoon</td>\n",
       "      <td>905 hPa (26.72 inHg)</td>\n",
       "      <td>205 km/h (125 mph)</td>\n",
       "      <td>2018</td>\n",
       "    </tr>\n",
       "    <tr>\n",
       "      <th>Rosita</th>\n",
       "      <td>Central Luzon</td>\n",
       "      <td>₱2.9 billion</td>\n",
       "      <td>October 27 – 31, 2018</td>\n",
       "      <td>27</td>\n",
       "      <td>0</td>\n",
       "      <td>Typhoon</td>\n",
       "      <td>900 hPa (26.58 inHg)</td>\n",
       "      <td>215 km/h (130 mph)</td>\n",
       "      <td>2018</td>\n",
       "    </tr>\n",
       "    <tr>\n",
       "      <th>Usman</th>\n",
       "      <td>Visayas, Southern Luzon</td>\n",
       "      <td>₱5.41 billion</td>\n",
       "      <td>December 25 – 29, 2018</td>\n",
       "      <td>155</td>\n",
       "      <td>0</td>\n",
       "      <td>Tropical Depression</td>\n",
       "      <td>1000 hPa (29.53 inHg)</td>\n",
       "      <td>55 km/h (35 mph)</td>\n",
       "      <td>2018</td>\n",
       "    </tr>\n",
       "  </tbody>\n",
       "</table>\n",
       "</div>"
      ],
      "text/plain": [
       "                    Areas affected    Damage(PHP)             Dates active  \\\n",
       "LocalName                                                                    \n",
       "Urduja                     Visayas  ₱3.75 billion   December 11 – 19, 2017   \n",
       "Vinta                     Mindanao   ₱2.1 billion   December 20 – 24, 2017   \n",
       "Ompong                       Luzon  ₱33.9 billion  September 12 – 15, 2018   \n",
       "Rosita               Central Luzon   ₱2.9 billion    October 27 – 31, 2018   \n",
       "Usman      Visayas, Southern Luzon  ₱5.41 billion   December 25 – 29, 2018   \n",
       "\n",
       "          Deaths Missing       PAGASACategory               Pressure  \\\n",
       "LocalName                                                              \n",
       "Urduja        54       0       Tropical Storm   996 hPa (29.41 inHg)   \n",
       "Vinta        173     176              Typhoon   970 hPa (28.64 inHg)   \n",
       "Ompong       127       0        Super Typhoon   905 hPa (26.72 inHg)   \n",
       "Rosita        27       0              Typhoon   900 hPa (26.58 inHg)   \n",
       "Usman        155       0  Tropical Depression  1000 hPa (29.53 inHg)   \n",
       "\n",
       "          Sustainedwind speeds Year Active  \n",
       "LocalName                                   \n",
       "Urduja        75 km/h (45 mph)        2017  \n",
       "Vinta        130 km/h (80 mph)        2017  \n",
       "Ompong      205 km/h (125 mph)        2018  \n",
       "Rosita      215 km/h (130 mph)        2018  \n",
       "Usman         55 km/h (35 mph)        2018  "
      ]
     },
     "execution_count": 81,
     "metadata": {},
     "output_type": "execute_result"
    }
   ],
   "source": [
    "df.tail()"
   ]
  },
  {
   "cell_type": "code",
   "execution_count": 82,
   "metadata": {},
   "outputs": [
    {
     "data": {
      "text/plain": [
       "str"
      ]
     },
     "execution_count": 82,
     "metadata": {},
     "output_type": "execute_result"
    }
   ],
   "source": [
    "type(df['Year Active'][0])"
   ]
  },
  {
   "cell_type": "code",
   "execution_count": 83,
   "metadata": {},
   "outputs": [],
   "source": [
    "#convert to int\n",
    "df['Year Active'] = df['Year Active'].apply(pd.to_numeric)"
   ]
  },
  {
   "cell_type": "code",
   "execution_count": 84,
   "metadata": {},
   "outputs": [
    {
     "data": {
      "text/plain": [
       "numpy.int64"
      ]
     },
     "execution_count": 84,
     "metadata": {},
     "output_type": "execute_result"
    }
   ],
   "source": [
    "type(df['Year Active'][0])"
   ]
  },
  {
   "cell_type": "markdown",
   "metadata": {},
   "source": [
    "<strong>Problem I-A: What is the probability that there is no super typhoon in one year?</strong>"
   ]
  },
  {
   "cell_type": "code",
   "execution_count": 108,
   "metadata": {},
   "outputs": [],
   "source": [
    "import numpy as np"
   ]
  },
  {
   "cell_type": "code",
   "execution_count": 109,
   "metadata": {},
   "outputs": [],
   "source": [
    "#find the probability or rate of super typhoon occurrence per year:\n",
    "v = df.PAGASACategory.value_counts()['Super Typhoon']/abs(df['Year Active'].max()-df['Year Active'].min())\n",
    "n_a = 1\n",
    "x = 0"
   ]
  },
  {
   "cell_type": "code",
   "execution_count": 110,
   "metadata": {},
   "outputs": [
    {
     "data": {
      "text/plain": [
       "0.2777777777777778"
      ]
     },
     "execution_count": 110,
     "metadata": {},
     "output_type": "execute_result"
    }
   ],
   "source": [
    "v"
   ]
  },
  {
   "cell_type": "markdown",
   "metadata": {},
   "source": [
    "This means that based on historical data since 1964, we have experienced about 0.2778 super typhoons per year."
   ]
  },
  {
   "cell_type": "code",
   "execution_count": 111,
   "metadata": {},
   "outputs": [],
   "source": [
    "lambda_ = v*n_a"
   ]
  },
  {
   "cell_type": "code",
   "execution_count": 114,
   "metadata": {},
   "outputs": [
    {
     "data": {
      "text/plain": [
       "0.7574651283969664"
      ]
     },
     "execution_count": 114,
     "metadata": {},
     "output_type": "execute_result"
    }
   ],
   "source": [
    "p_a = ((np.exp(-lambda_))*(lambda_**x))/np.math.factorial(x)\n",
    "p_a"
   ]
  },
  {
   "cell_type": "markdown",
   "metadata": {},
   "source": [
    "Thus, the probability of <u>not experiencing</u> a super typhoon in one year is about 75.75%. Which also means that the probability of experiencing one is about 24.25%. The odds of no super typhoon is approximately 3x against having a super typhoon."
   ]
  },
  {
   "cell_type": "markdown",
   "metadata": {},
   "source": [
    "<strong>Problem I-B: How about within the next two-and-a-half years?</strong>"
   ]
  },
  {
   "cell_type": "code",
   "execution_count": 118,
   "metadata": {},
   "outputs": [],
   "source": [
    "n_b = 2.5\n",
    "lambda_b = v*n_b"
   ]
  },
  {
   "cell_type": "code",
   "execution_count": 119,
   "metadata": {},
   "outputs": [
    {
     "data": {
      "text/plain": [
       "0.4993517885992762"
      ]
     },
     "execution_count": 119,
     "metadata": {},
     "output_type": "execute_result"
    }
   ],
   "source": [
    "p_b = ((np.exp(-lambda_b))*(lambda_b**x))/np.math.factorial(x)\n",
    "p_b"
   ]
  },
  {
   "cell_type": "markdown",
   "metadata": {},
   "source": [
    "Here, we can see that the probability of not experiencing vs experiencing a super typhoon gets close to almost 50:50."
   ]
  },
  {
   "cell_type": "markdown",
   "metadata": {},
   "source": [
    "<strong>Problem I-C: How about within the next five years?</strong>"
   ]
  },
  {
   "cell_type": "code",
   "execution_count": 131,
   "metadata": {},
   "outputs": [],
   "source": [
    "n_c = 5\n",
    "lambda_c = v*n_c"
   ]
  },
  {
   "cell_type": "code",
   "execution_count": 132,
   "metadata": {},
   "outputs": [
    {
     "data": {
      "text/plain": [
       "0.24935220877729622"
      ]
     },
     "execution_count": 132,
     "metadata": {},
     "output_type": "execute_result"
    }
   ],
   "source": [
    "p_c = ((np.exp(-lambda_c))*(lambda_c**x))/np.math.factorial(x)\n",
    "p_c"
   ]
  },
  {
   "cell_type": "markdown",
   "metadata": {},
   "source": [
    "The probability of not experiencing a super typhoon within the next five years goes down to just about 24.93%, while raising the probability of having a super typhoon to about 75.07%"
   ]
  },
  {
   "cell_type": "markdown",
   "metadata": {},
   "source": [
    "<strong>Problem II: What is probability of having three super typhoons in the next two years?</strong>"
   ]
  },
  {
   "cell_type": "markdown",
   "metadata": {},
   "source": [
    "In this particular question, seeing the Poisson model as a limiting case of the Binomial model might no longer be accurate since we are no longer only looking at whether an event occurs or does not occur (1 or 0). However, we could still use the Poisson distribution to ascertain the probability of the event in question."
   ]
  },
  {
   "cell_type": "code",
   "execution_count": 123,
   "metadata": {},
   "outputs": [],
   "source": [
    "n_ii = 2\n",
    "x_ii = 3"
   ]
  },
  {
   "cell_type": "code",
   "execution_count": 124,
   "metadata": {},
   "outputs": [],
   "source": [
    "lambda_ii = v*n_ii"
   ]
  },
  {
   "cell_type": "code",
   "execution_count": 126,
   "metadata": {},
   "outputs": [
    {
     "data": {
      "text/plain": [
       "0.016396702695971446"
      ]
     },
     "execution_count": 126,
     "metadata": {},
     "output_type": "execute_result"
    }
   ],
   "source": [
    "p_ii = ((np.exp(-lambda_ii))*(lambda_ii**x_ii))/np.math.factorial(x_ii)\n",
    "p_ii"
   ]
  },
  {
   "cell_type": "markdown",
   "metadata": {},
   "source": [
    "Hence, the probability of experiencing three super typhoons within the next two years is about 1.64%."
   ]
  },
  {
   "cell_type": "markdown",
   "metadata": {},
   "source": [
    "<h3>Final words</h3>"
   ]
  },
  {
   "cell_type": "markdown",
   "metadata": {},
   "source": [
    "How reliable are these probabilities? It will only be reliable if and only if the assumptions I have stated above are correct, and that no underlying conditions (like climate change) make the occurrences of super typhoons to be more frequent."
   ]
  },
  {
   "cell_type": "markdown",
   "metadata": {},
   "source": [
    ". . . . . . . . . . . . . . . . . . . . . . . . . . . . . . . . . . . . . . . . . . . . . . . . . . . . . "
   ]
  },
  {
   "cell_type": "markdown",
   "metadata": {},
   "source": [
    "<font size='3'>This post is heavily inspired by the following blogs:\n",
    "<br>- https://medium.com/@ns2586/using-poisson-distribution-to-forecast-the-next-earthquake-38a4406ab71\n",
    "<br>- https://probabilityandstats.wordpress.com/2011/08/18/poisson-as-a-limiting-case-of-binomial-distribution/</font>"
   ]
  }
 ],
 "metadata": {
  "kernelspec": {
   "display_name": "Python 3",
   "language": "python",
   "name": "python3"
  },
  "language_info": {
   "codemirror_mode": {
    "name": "ipython",
    "version": 3
   },
   "file_extension": ".py",
   "mimetype": "text/x-python",
   "name": "python",
   "nbconvert_exporter": "python",
   "pygments_lexer": "ipython3",
   "version": "3.7.1"
  }
 },
 "nbformat": 4,
 "nbformat_minor": 2
}
